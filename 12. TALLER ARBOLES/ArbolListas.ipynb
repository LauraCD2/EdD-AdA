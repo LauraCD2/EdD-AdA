{
 "cells": [
  {
   "attachments": {},
   "cell_type": "markdown",
   "metadata": {},
   "source": [
    "# ***TALLER ARBOLES***\n"
   ]
  },
  {
   "attachments": {},
   "cell_type": "markdown",
   "metadata": {},
   "source": [
    "**1. Elabore un programa en python para crear árboles haciendo uso de listas enlazadas. Los nodos serán ingresados por teclado. Debe tener los métodos para:**\n",
    "\n",
    "    a) Peso del árbol\n",
    "\n",
    "    b) Orden\n",
    "\n",
    "    c) Altura"
   ]
  },
  {
   "cell_type": "code",
   "execution_count": 2,
   "metadata": {},
   "outputs": [
    {
     "name": "stdout",
     "output_type": "stream",
     "text": [
      "Ingrese los nodos y su padre (ingrese 'fin' para terminar):\n",
      "Peso del árbol: 7\n",
      "Orden del árbol: ['1', '2', '3', '4', '5', '6', '7']\n",
      "Altura del árbol: 3\n"
     ]
    }
   ],
   "source": [
    "import matplotlib.pyplot as plt\n",
    "\n",
    "\n",
    "class Node:\n",
    "    def __init__(self, data):\n",
    "        self.data = data\n",
    "        self.children = []\n",
    "\n",
    "\n",
    "class Tree:\n",
    "    def __init__(self):\n",
    "        self.root = None\n",
    "\n",
    "    def insert(self, data, parent=None):\n",
    "        new_node = Node(data)\n",
    "\n",
    "        if not self.root:\n",
    "            self.root = new_node\n",
    "        else:\n",
    "            if parent is None:\n",
    "                self.root.children.append(new_node)\n",
    "            else:\n",
    "                parent_node = self.find_node(parent, self.root)\n",
    "                if parent_node:\n",
    "                    parent_node.children.append(new_node)\n",
    "                else:\n",
    "                    print(\"Padre no encontrado. El nodo será insertado en la raíz.\")\n",
    "\n",
    "    def find_node(self, data, node):\n",
    "        if node.data == data:\n",
    "            return node\n",
    "\n",
    "        for child in node.children:\n",
    "            result = self.find_node(data, child)\n",
    "            if result:\n",
    "                return result\n",
    "\n",
    "        return None\n",
    "\n",
    "    def weight(self):\n",
    "        return self.count_nodes(self.root)\n",
    "\n",
    "    def count_nodes(self, node):\n",
    "        count = 1\n",
    "        for child in node.children:\n",
    "            count += self.count_nodes(child)\n",
    "        return count\n",
    "\n",
    "    def order(self):\n",
    "        if not self.root:\n",
    "            return []\n",
    "\n",
    "        result = []\n",
    "        queue = [self.root]\n",
    "\n",
    "        while queue:\n",
    "            node = queue.pop(0)\n",
    "            result.append(node.data)\n",
    "            queue.extend(node.children)\n",
    "\n",
    "        return result\n",
    "\n",
    "    def height(self):\n",
    "        return self.calculate_height(self.root)\n",
    "\n",
    "    def calculate_height(self, node):\n",
    "        if not node:\n",
    "            return 0\n",
    "\n",
    "        if not node.children:\n",
    "            return 1\n",
    "\n",
    "        heights = []\n",
    "        for child in node.children:\n",
    "            heights.append(self.calculate_height(child))\n",
    "\n",
    "        return 1 + max(heights)\n",
    "\n",
    "\n",
    "# Ejemplo de uso del programa\n",
    "tree = Tree()\n",
    "\n",
    "print(\"Ingrese los nodos y su padre (ingrese 'fin' para terminar):\")\n",
    "while True:\n",
    "    data = input(\"Nodo: \")\n",
    "    if data == \"fin\":\n",
    "        break\n",
    "\n",
    "    parent = input(\"Padre (deje en blanco para raíz): \")\n",
    "    if parent == \"\":\n",
    "        parent = None\n",
    "\n",
    "    tree.insert(data, parent)\n",
    "\n",
    "print(\"Peso del árbol:\", tree.weight())\n",
    "print(\"Orden del árbol:\", tree.order())\n",
    "print(\"Altura del árbol:\", tree.height())"
   ]
  },
  {
   "attachments": {},
   "cell_type": "markdown",
   "metadata": {},
   "source": [
    "**2. Realice una consulta sobre las formas de recorrer un árbol. Realice un ejemplo de alguno de ellos.**"
   ]
  },
  {
   "attachments": {},
   "cell_type": "markdown",
   "metadata": {},
   "source": [
    "**Formas de recorrer un arbol:**\n",
    "\n",
    "* ***Recorrido en profundidad (depth-first traversal):*** El recorrido en profundidad es una técnica para visitar todos los nodos de un árbol de manera sistemática, priorizando la exploración en la profundidad del árbol antes de avanzar hacia los niveles más bajos. Hay tres variantes comunes de recorrido en profundidad:\n",
    "\n",
    "    * ***Recorrido en preorden (preorder traversal):*** En este tipo de recorrido, se visita primero el nodo raíz y luego se visitan recursivamente los subárboles izquierdo y derecho en ese orden. Por lo tanto, el recorrido sigue el orden: raíz, subárbol izquierdo, subárbol derecho.\n",
    "\n",
    "    * ***Recorrido en inorden (inorder traversal):*** En este tipo de recorrido, se visita primero el subárbol izquierdo, luego el nodo raíz y finalmente el subárbol derecho. Por lo tanto, el recorrido sigue el orden: subárbol izquierdo, raíz, subárbol derecho.\n",
    "\n",
    "    * ***Recorrido en postorden (postorder traversal):*** En este tipo de recorrido, se visita primero el subárbol izquierdo, luego el subárbol derecho y finalmente el nodo raíz. Por lo tanto, el recorrido sigue el orden: subárbol izquierdo, subárbol derecho, raíz.\n",
    "\n",
    "\n",
    "* ***Recorrido en anchura (breadth-first traversal):*** El recorrido en anchura, también conocido como recorrido por niveles, es una técnica para visitar todos los nodos de un árbol de manera secuencial, nivel por nivel. Comienza por visitar el nodo raíz y luego visita todos los nodos del siguiente nivel antes de avanzar al siguiente nivel. Se utiliza una estructura de datos llamada cola para realizar este tipo de recorrido, asegurándose de que los nodos se visiten en el orden correcto.\n",
    "\n",
    "* ***Recorrido en orden inverso (reverse inorder traversal):*** En este tipo de recorrido, se visita primero el subárbol derecho, luego el nodo raíz y finalmente el subárbol izquierdo. Es esencialmente una variante inversa del recorrido en inorden. El recorrido en orden inverso se utiliza en situaciones en las que se requiere visitar los nodos en orden descendente, como en la obtención de elementos en orden descendente en un árbol de búsqueda binaria.\n",
    "\n",
    "* ***Recorrido en orden ascendente (ascending order traversal):*** Este tipo de recorrido también se conoce como recorrido ascendente o recorrido ascendente en inorden. Es similar al recorrido en inorden, pero se utiliza para visitar los nodos en un orden ascendente. Se visita primero el subárbol izquierdo, luego el nodo raíz y finalmente el subárbol derecho. El recorrido en orden ascendente se utiliza comúnmente para obtener los elementos de un árbol de búsqueda binaria en orden ascendente.\n",
    "\n",
    "* ***Recorrido en orden de niveles alternados (Zigzag traversal):*** En este tipo de recorrido, los nodos se visitan en un orden en zigzag, alternando entre recorrer los niveles de izquierda a derecha y de derecha a izquierda. Comienza por visitar el nivel 1 de izquierda a derecha, luego el nivel 2 de derecha a izquierda, el nivel 3 de izquierda a derecha, y así sucesivamente. Se pueden utilizar estructuras de datos como colas y pilas para implementar este tipo de recorrido.\n",
    "\n",
    "* ***Recorrido en anchura por niveles pares e impares (Even-Odd Level Order traversal):*** En este tipo de recorrido, los nodos se visitan en un orden específico de acuerdo con el nivel en el que se encuentren. Los niveles pares se recorren de izquierda a derecha, mientras que los niveles impares se recorren de derecha a izquierda. Es una variante del recorrido en anchura que introduce un patrón de alternancia en la dirección del recorrido en función del nivel del nodo.\n"
   ]
  },
  {
   "attachments": {},
   "cell_type": "markdown",
   "metadata": {},
   "source": [
    "***EJEMPLO:*** "
   ]
  },
  {
   "cell_type": "code",
   "execution_count": 3,
   "metadata": {},
   "outputs": [
    {
     "name": "stdout",
     "output_type": "stream",
     "text": [
      "1\n",
      "2\n",
      "4\n",
      "3\n",
      "5\n",
      "6\n",
      "7\n"
     ]
    }
   ],
   "source": [
    "def depth_first_traversal(node):\n",
    "    if node:\n",
    "        print(node.data)  # Visitar el nodo actual\n",
    "        for child in node.children:\n",
    "            depth_first_traversal(child)  # Recorrer los hijos de manera recursiva\n",
    "\n",
    "# Llamar al método depth_first_traversal para recorrer el árbol en profundidad\n",
    "depth_first_traversal(tree.root)\n"
   ]
  }
 ],
 "metadata": {
  "kernelspec": {
   "display_name": "Python 3",
   "language": "python",
   "name": "python3"
  },
  "language_info": {
   "codemirror_mode": {
    "name": "ipython",
    "version": 3
   },
   "file_extension": ".py",
   "mimetype": "text/x-python",
   "name": "python",
   "nbconvert_exporter": "python",
   "pygments_lexer": "ipython3",
   "version": "3.11.3"
  },
  "orig_nbformat": 4
 },
 "nbformat": 4,
 "nbformat_minor": 2
}
