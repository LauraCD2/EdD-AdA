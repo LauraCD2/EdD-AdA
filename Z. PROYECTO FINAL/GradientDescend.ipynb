{
 "cells": [
  {
   "cell_type": "code",
   "execution_count": 1,
   "metadata": {},
   "outputs": [
    {
     "name": "stdout",
     "output_type": "stream",
     "text": [
      "tensor([[-7.1526e-07, -4.7684e-07, -7.1526e-07, -3.3379e-06, -8.6665e-04],\n",
      "        [-3.5763e-07, -3.5763e-07, -4.9081e-01, -8.3447e-07, -1.5497e-06],\n",
      "        [-7.1526e-07, -5.3651e-01, -2.3842e-07, -5.9605e-07, -4.7684e-07],\n",
      "        [-1.4305e-06, -4.7684e-07, -5.9605e-07, -1.2199e+00, -1.1679e-01],\n",
      "        [-5.3203e-04, -9.5367e-07, -7.1526e-07, -1.1290e-01, -3.5763e-07]])\n"
     ]
    }
   ],
   "source": [
    "import torch\n",
    "\n",
    "\n",
    "A= torch.rand(5,5)\n",
    "x= torch.rand(5,1)\n",
    "\n",
    "y=A@x #a por x\n",
    "\n",
    "learning_rate=0.1\n",
    "\n",
    "def grad(x):\n",
    "    return 2*A.T*(A*x-y)\n",
    "\n",
    "for i in range(1000):\n",
    "    x=x-learning_rate*grad(x)\n",
    "\n",
    "print((A*x)-y)"
   ]
  },
  {
   "cell_type": "code",
   "execution_count": 3,
   "metadata": {},
   "outputs": [
    {
     "name": "stdout",
     "output_type": "stream",
     "text": [
      "tensor([[ 2.9064,  2.6149,  3.0637,  2.7340,  4.0240],\n",
      "        [ 1.6719,  1.9954,  5.2379,  2.6488,  2.5642],\n",
      "        [ 2.1795, 38.2339,  1.8708,  3.7447,  1.9058],\n",
      "        [ 6.9510,  1.8949,  1.2860,  2.7270, 32.2625],\n",
      "        [17.6331,  3.7767,  2.3318,  3.4962,  1.6431]])\n"
     ]
    }
   ],
   "source": [
    "#El conjunto C est´a dado por C = {x : kxk1 ≤ β} para β > 0. proyectar x sobre C es encontrar el punto m´as cercano a x en C.\n",
    "torch.norm(x,2) #norma 2\n",
    "torch.clamp(x,0,1) #proyectar x sobre C\n",
    "torch.clamp(x,0,1).norm(2) #norma 2 de la proyeccion\n"
   ]
  },
  {
   "cell_type": "code",
   "execution_count": null,
   "metadata": {},
   "outputs": [],
   "source": []
  }
 ],
 "metadata": {
  "kernelspec": {
   "display_name": "Python 3",
   "language": "python",
   "name": "python3"
  },
  "language_info": {
   "codemirror_mode": {
    "name": "ipython",
    "version": 3
   },
   "file_extension": ".py",
   "mimetype": "text/x-python",
   "name": "python",
   "nbconvert_exporter": "python",
   "pygments_lexer": "ipython3",
   "version": "3.11.3"
  },
  "orig_nbformat": 4
 },
 "nbformat": 4,
 "nbformat_minor": 2
}
