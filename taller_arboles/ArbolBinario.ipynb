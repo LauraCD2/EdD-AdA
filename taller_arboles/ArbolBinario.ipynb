{
 "cells": [
  {
   "attachments": {},
   "cell_type": "markdown",
   "metadata": {},
   "source": [
    "**TALLER ARBOLES BINARIOS**\n",
    "\n",
    "1. Realice la implementación en Python de un montículo usando árboles binarios. Debe tener las siguientes funciones: Crear el montículo, insertar un elemento, eliminar elemento, recorrido en preorden y por niveles.\n",
    "\n",
    "2. Realice una consulta sobre qué es y cómo funciona un árbol de huffman. Realice la implementación en Python de un árbol de huffman."
   ]
  },
  {
   "cell_type": "code",
   "execution_count": 2,
   "metadata": {},
   "outputs": [],
   "source": [
    "# 1. Realice la implementación en Python de un montículo usando árboles binarios. Debe tener las siguientes funciones: Crear el montículo, insertar un elemento, eliminar elemento, recorrido en preorden y por niveles.\n",
    "\n",
    "# Importar librerias\n",
    "import matplotlib.pyplot as plt\n",
    "\n",
    "# Clase Nodo\n",
    "def crearNodo(dato):\n",
    "    return [dato, None, None]\n",
    "\n",
    "# Clase Arbol\n",
    "def crearArbol():\n",
    "    return None\n",
    "\n",
    "# Funcion para insertar un elemento \n",
    "def insertar(arbol, dato):\n",
    "    if arbol == None:\n",
    "        return crearNodo(dato)\n",
    "    else:\n",
    "        datoRaiz = arbol[0]\n",
    "        if dato < datoRaiz:\n",
    "            hijoIzquierdo = arbol[1]\n",
    "            arbol[1] = insertar(hijoIzquierdo, dato)\n",
    "        else:\n",
    "            hijoDerecho = arbol[2]\n",
    "            arbol[2] = insertar(hijoDerecho, dato)\n",
    "        return arbol\n",
    "\n",
    "    "
   ]
  }
 ],
 "metadata": {
  "kernelspec": {
   "display_name": "Python 3",
   "language": "python",
   "name": "python3"
  },
  "language_info": {
   "codemirror_mode": {
    "name": "ipython",
    "version": 3
   },
   "file_extension": ".py",
   "mimetype": "text/x-python",
   "name": "python",
   "nbconvert_exporter": "python",
   "pygments_lexer": "ipython3",
   "version": "3.11.3"
  },
  "orig_nbformat": 4
 },
 "nbformat": 4,
 "nbformat_minor": 2
}
