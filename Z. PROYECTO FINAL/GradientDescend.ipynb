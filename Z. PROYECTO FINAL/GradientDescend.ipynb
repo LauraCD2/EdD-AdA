{
 "cells": [
  {
   "cell_type": "code",
   "execution_count": 3,
   "metadata": {},
   "outputs": [
    {
     "name": "stdout",
     "output_type": "stream",
     "text": [
      "tensor([[-3.5763e-07, -4.7684e-07, -2.7418e-06, -3.0994e-06, -2.9090e-02],\n",
      "        [-5.9605e-07, -2.3842e-07, -7.1526e-07, -4.7684e-07, -9.5367e-07],\n",
      "        [-3.8147e-06, -4.7684e-07, -1.3113e-06, -1.7881e-06, -1.1921e-06],\n",
      "        [-5.3644e-06, -5.9605e-07, -3.9339e-06, -5.0124e-02, -3.5763e-07],\n",
      "        [-3.4588e-02, -1.1921e-06, -1.5497e-06, -5.9605e-07, -2.3842e-07]])\n"
     ]
    }
   ],
   "source": [
    "import torch\n",
    "\n",
    "\n",
    "A= torch.rand(5,5)\n",
    "x= torch.rand(5,1)\n",
    "\n",
    "y=A@x #a por x\n",
    "\n",
    "learning_rate=0.1\n",
    "\n",
    "def grad(x):\n",
    "    return 2*A.T*(A*x-y)\n",
    "\n",
    "for i in range(1000):\n",
    "    x=x-learning_rate*grad(x)\n",
    "\n",
    "print((A*x)-y)\n",
    "    \n",
    "     "
   ]
  }
 ],
 "metadata": {
  "kernelspec": {
   "display_name": "Python 3",
   "language": "python",
   "name": "python3"
  },
  "language_info": {
   "codemirror_mode": {
    "name": "ipython",
    "version": 3
   },
   "file_extension": ".py",
   "mimetype": "text/x-python",
   "name": "python",
   "nbconvert_exporter": "python",
   "pygments_lexer": "ipython3",
   "version": "3.11.3"
  },
  "orig_nbformat": 4
 },
 "nbformat": 4,
 "nbformat_minor": 2
}
