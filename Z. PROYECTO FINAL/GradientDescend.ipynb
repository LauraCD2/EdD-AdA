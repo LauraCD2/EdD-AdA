{
 "cells": [
  {
   "cell_type": "code",
   "execution_count": 1,
   "metadata": {},
   "outputs": [
    {
     "name": "stdout",
     "output_type": "stream",
     "text": [
      "tensor([[-2.7418e-06, -3.5763e-07, -2.9802e-06, -2.2107e-02, -4.7684e-07],\n",
      "        [-2.3842e-07, -1.4901e-05, -1.9073e-06, -1.4305e-06, -3.7062e-01],\n",
      "        [-1.4305e-06, -1.6689e-06, -1.1074e-02, -1.9073e-06, -1.7405e-05],\n",
      "        [-1.0869e-02, -1.2517e-06, -1.1325e-06, -3.8628e-02, -3.5763e-07],\n",
      "        [-3.5763e-07, -4.0664e-01, -2.1815e-05, -5.9605e-07, -5.9605e-07]])\n",
      "tensor([[ 4.6042,  1.9082,  9.4357, 12.7922,  2.3311],\n",
      "        [ 1.8262,  6.3871,  2.3595,  1.7046, 37.5333],\n",
      "        [ 1.9598,  5.2680,  9.8420,  3.2031,  2.3982],\n",
      "        [ 6.0682,  4.5524,  2.9511,  6.9890,  1.1331],\n",
      "        [ 1.8535,  5.9098, 20.2283,  2.5866,  2.0907]])\n"
     ]
    }
   ],
   "source": [
    "import torch\n",
    "\n",
    "\n",
    "A= torch.rand(5,5)\n",
    "x= torch.rand(5,1)\n",
    "\n",
    "y=A@x #a por x\n",
    "\n",
    "learning_rate=0.1\n",
    "\n",
    "def grad(x):\n",
    "    return 2*A.T*(A*x-y)\n",
    "\n",
    "for i in range(1000):\n",
    "    x=x-learning_rate*grad(x)\n",
    "\n",
    "print((A*x)-y)\n",
    "\n",
    "torch.clamp(x,0,1)\n",
    "print(x)\n",
    "\n",
    "    \n",
    "     "
   ]
  }
 ],
 "metadata": {
  "kernelspec": {
   "display_name": "Python 3",
   "language": "python",
   "name": "python3"
  },
  "language_info": {
   "codemirror_mode": {
    "name": "ipython",
    "version": 3
   },
   "file_extension": ".py",
   "mimetype": "text/x-python",
   "name": "python",
   "nbconvert_exporter": "python",
   "pygments_lexer": "ipython3",
   "version": "3.11.3"
  },
  "orig_nbformat": 4
 },
 "nbformat": 4,
 "nbformat_minor": 2
}
